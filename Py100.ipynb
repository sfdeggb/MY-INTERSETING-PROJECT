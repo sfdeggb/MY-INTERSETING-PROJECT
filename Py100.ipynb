{
 "cells": [
  {
   "cell_type": "code",
   "execution_count": null,
   "metadata": {},
   "outputs": [],
   "source": [
    "#有四个数字：1、2、3、4，能组成多少个互不相同且无重复数字的三位数？各是多少"
   ]
  },
  {
   "cell_type": "code",
   "execution_count": null,
   "metadata": {},
   "outputs": [],
   "source": [
    "for i in range(1,5):\n",
    "    for j in range(1,5):\n",
    "        for k in range(1, 5):\n",
    "            if (i!=k) and (j!=k) and (i!=j):\n",
    "                print(i,j,k)"
   ]
  },
  {
   "cell_type": "code",
   "execution_count": null,
   "metadata": {},
   "outputs": [],
   "source": [
    "i= int(raw_input('净利润：'))\n",
    "arr=[10000, 60000, 400000, 1000000, 0]\n",
    "rat=[0.01, 0.02, 0.03, 0.05, 0.075, 0.1]\n",
    "r= 0\n",
    "for iedx in range(0,6)"
   ]
  },
  {
   "cell_type": "markdown",
   "metadata": {},
   "source": [
    "题目：一个整数，它加上100后是一个完全平方数，再加上168又是一个完全平方数，请问该数是多少？"
   ]
  },
  {
   "cell_type": "code",
   "execution_count": 1,
   "metadata": {},
   "outputs": [
    {
     "name": "stdout",
     "output_type": "stream",
     "text": [
      "-99.0\n",
      "21.0\n",
      "261.0\n",
      "1581.0\n"
     ]
    }
   ],
   "source": [
    "for i in range(1,85):\n",
    "    if 168 % i ==0:\n",
    "        j = 168/i;\n",
    "        if i >j and (i+j)%2==0 and (i-j)%2 ==0:\n",
    "            m=(i+j)/2\n",
    "            n=(i-j)/2\n",
    "            x=n*n-100\n",
    "            print(x)"
   ]
  },
  {
   "cell_type": "markdown",
   "metadata": {},
   "source": [
    "输入某年某月某日，判断这一天是这一年的第几天？"
   ]
  },
  {
   "cell_type": "code",
   "execution_count": 2,
   "metadata": {},
   "outputs": [
    {
     "name": "stdout",
     "output_type": "stream",
     "text": [
      "it is the 140th day\n"
     ]
    }
   ],
   "source": [
    "year=int(input('year:\\n'))\n",
    "month=int(input('month\\n'))\n",
    "day=int(input('day:\\n'))\n",
    "\n",
    "months=(0,31,59,90,120,151,181,212,243,273,304,334)\n",
    "\n",
    "if 0< month<=12:\n",
    "    sum=months[month-1]\n",
    "else:\n",
    "    print('data error')\n",
    "sum+=day \n",
    "leap=0\n",
    "if (year %400==0) or(year %4==0) and (year %100 !=0):\n",
    "    leap=1\n",
    "if (leap==1) and (month>2):\n",
    "    sum+=1\n",
    "print('it is the %dth day' %sum)\n",
    "    "
   ]
  },
  {
   "cell_type": "code",
   "execution_count": null,
   "metadata": {},
   "outputs": [],
   "source": [
    "输入三个整数x,y,z，请把这三个数由小到大输出。"
   ]
  },
  {
   "cell_type": "code",
   "execution_count": 3,
   "metadata": {},
   "outputs": [
    {
     "ename": "SyntaxError",
     "evalue": "EOL while scanning string literal (Temp/ipykernel_18620/453428688.py, line 3)",
     "output_type": "error",
     "traceback": [
      "\u001b[1;36m  File \u001b[1;32m\"C:\\Users\\HP\\AppData\\Local\\Temp/ipykernel_18620/453428688.py\"\u001b[1;36m, line \u001b[1;32m3\u001b[0m\n\u001b[1;33m    x= int(input('integer:\\n))\u001b[0m\n\u001b[1;37m                              ^\u001b[0m\n\u001b[1;31mSyntaxError\u001b[0m\u001b[1;31m:\u001b[0m EOL while scanning string literal\n"
     ]
    }
   ],
   "source": [
    "l = []\n",
    "for i in range(3):\n",
    "    x= int(input('integer:\\n)))\n",
    "    l.append(x)\n",
    "l.sort()\n",
    "print(l)"
   ]
  }
 ],
 "metadata": {
  "kernelspec": {
   "display_name": "Python 3.9.6 64-bit",
   "language": "python",
   "name": "python3"
  },
  "language_info": {
   "codemirror_mode": {
    "name": "ipython",
    "version": 3
   },
   "file_extension": ".py",
   "mimetype": "text/x-python",
   "name": "python",
   "nbconvert_exporter": "python",
   "pygments_lexer": "ipython3",
   "version": "3.9.6"
  },
  "orig_nbformat": 4,
  "vscode": {
   "interpreter": {
    "hash": "ed9d032912772e78c9370c118e6ac8be2135cd227a538bf16acd2d00ad3c4a57"
   }
  }
 },
 "nbformat": 4,
 "nbformat_minor": 2
}
